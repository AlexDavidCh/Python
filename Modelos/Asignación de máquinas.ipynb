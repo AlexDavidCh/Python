{
 "cells": [
  {
   "cell_type": "markdown",
   "metadata": {},
   "source": [
    "# Laboratorio 7: Solución\n",
    "\n",
    "## Problema de calendarización de máquinas\n",
    "\n",
    "En una fábrica existen $\\textit{m}$ máquinas que serán utilizadas para procesar $\\textit{n}$ trabajos. Cada trabajo debe ser asignado a una sola máquina. La máquina $i \\in \\{1,\\ldots,m\\}$ tarda $t_{ij}$ minutos en procesar el trabajo $j\\in \\{1,\\ldots,n\\}$. Una vez que una máquina ha iniciado el procesamiento de un trabajo, no es posible interrumpirla hasta que termine con el mismo.\n",
    "\n",
    "Considerar una instancia con $10$ trabajos y $3$ máquinas. El horizonte de tiempo disponible para el procesamiento es de $120$ minutos. Los tiempos de procesamiento $t_{ij}$ están dados en la tabla:\n",
    "\n",
    "| $t_{ij}$ |  $1$ |  $2$ |  $3$ |  $4$ |  $5$ |  $6$ |  $7$ |  $8$ |  $9$ | $10$ |\n",
    "|:--------:|-----:|:----:|:----:|:----:|:----:|:----:|:----:|:----:|:----:|:----:|\n",
    "|   $1$    | $40$ | $60$ | $70$ | $65$ | $60$ | $10$ | $20$ | $35$ | $25$ | $10$ |\n",
    "|   $2$    | $45$ | $70$ | $65$ | $60$ | $50$ | $15$ | $25$ | $40$ | $20$ | $10$ |\n",
    "|   $3$    | $50$ | $65$ | $60$ | $70$ | $55$ | $10$ | $20$ | $30$ | $20$ | $15$ |\n",
    "\n",
    " \n",
    "Formular este problema como un **programa lineal entero** para encontrar una asignación de trabajos a máquinas que maximice la cantidad de trabajos procesados dentro de un horizonte de tiempo de $\\textit{T}$ minutos. Implementar este programa usando la interfaz Python de Gurobi, resolverlo y mostrar la solución óptima. "
   ]
  },
  {
   "cell_type": "markdown",
   "metadata": {},
   "source": [
    "**Formulación del modelo:**\n",
    "\n",
    "Si suponemos que $I$ es el conjunto de máquinas y $J$ el conjunto de trabajos, usando variables binarias $x_{ij}$ para indicar si la máquina $i$ se le asigna el trabajo $j$, $t_{ij}$ para indicar el tiempo que la máquina $i$ tarda en procesar el trabajo $j$, y $M$ para indicar el horizonte de tiempo disponible para el procesamiento, el problema puede formularse como el siguiente programa lineal entero:\n",
    "\n",
    "\n",
    "\\begin{align*}\n",
    "&\\max \\sum_{i \\in I} \\sum_{j \\in J} x_{ij} \\\\ \n",
    "&\\mbox{s.r.}\\\\\n",
    "& \\sum_{i \\in I} x_{ij} \\leq 1, \\quad \\forall j \\in J, \\\\\n",
    "& \\sum_{j \\in J} t_{ij} x_{ij} \\leq M, \\quad \\forall i \\in I, \\\\\n",
    "& x_{ij} \\in \\{0, 1\\}, \\quad \\forall i \\in I, j \\in J.\n",
    "\\end{align*}\n"
   ]
  },
  {
   "cell_type": "markdown",
   "metadata": {},
   "source": [
    "**Implementación del modelo:**\n",
    "\n",
    "Empezamos por definir los datos del problema en la variable `datos_tiempo`, los conjuntos de índices y el parámetro del horizonte del tiempo $T$:"
   ]
  },
  {
   "cell_type": "code",
   "execution_count": 17,
   "metadata": {},
   "outputs": [],
   "source": [
    "# Parámetros del modelo\n",
    "from gurobipy import *\n",
    "\n",
    "# Tiempos de procesamiento\n",
    "t = tupledict({(1, 1)  : 40, (1, 2)  : 60, (1, 3)  : 70, (1, 4)  : 65, (1, 5)  : 60,\n",
    "               (1, 6)  : 10, (1, 7)  : 20, (1, 8)  : 35, (1, 9)  : 25, (1, 10) : 10,\n",
    "               (2, 1)  : 45, (2, 2)  : 70, (2, 3)  : 65, (2, 4)  : 60, (2, 5)  : 50,\n",
    "               (2, 6)  : 15, (2, 7)  : 25, (2, 8)  : 40, (2, 9)  : 20, (2, 10) : 10,    \n",
    "               (3, 1)  : 50, (3, 2)  : 65, (3, 3)  : 60, (3, 4)  : 70, (3, 5)  : 55,\n",
    "               (3, 6)  : 10, (3, 7)  : 20, (3, 8)  : 30, (3, 9)  : 20, (3, 10) : 15})\n",
    "\n",
    "# Horizonte de tiempo\n",
    "T = 120\n",
    "\n",
    "# Conjuntos de índices\n",
    "n = 10\n",
    "m = 3\n",
    "I = tuplelist(range(1, m+1)) # indexamos las maquinas como {1, ..., m}\n",
    "J = tuplelist(range(1, n+1)) # indexamos los trabajos como {1, ..., n}\n"
   ]
  },
  {
   "cell_type": "markdown",
   "metadata": {},
   "source": [
    "Definimos ahora el objeto modelo y las variables binarias del modelo."
   ]
  },
  {
   "cell_type": "code",
   "execution_count": 18,
   "metadata": {},
   "outputs": [],
   "source": [
    "m = Model('machine-scheduling')\n",
    "\n",
    "# Asignacion máquina-trabajo:\n",
    "x = m.addVars(I, J, vtype = GRB.BINARY, name=\"x\") # variables indexadas por IxJ."
   ]
  },
  {
   "cell_type": "markdown",
   "metadata": {},
   "source": [
    "Añadir la función objetivo: Maximizar la cantidad de trabajos procesados."
   ]
  },
  {
   "cell_type": "code",
   "execution_count": 19,
   "metadata": {},
   "outputs": [],
   "source": [
    "# Trabajos procesados\n",
    "m.setObjective(x.sum('*', '*'), GRB.MAXIMIZE)"
   ]
  },
  {
   "cell_type": "markdown",
   "metadata": {},
   "source": [
    "Añadir restricciones del modelo.\n",
    "1. Cada trabajo $j$ puede ser asignado a una sola máquina $i$."
   ]
  },
  {
   "cell_type": "code",
   "execution_count": 20,
   "metadata": {},
   "outputs": [
    {
     "data": {
      "text/plain": [
       "{1: <gurobi.Constr *Awaiting Model Update*>,\n",
       " 2: <gurobi.Constr *Awaiting Model Update*>,\n",
       " 3: <gurobi.Constr *Awaiting Model Update*>,\n",
       " 4: <gurobi.Constr *Awaiting Model Update*>,\n",
       " 5: <gurobi.Constr *Awaiting Model Update*>,\n",
       " 6: <gurobi.Constr *Awaiting Model Update*>,\n",
       " 7: <gurobi.Constr *Awaiting Model Update*>,\n",
       " 8: <gurobi.Constr *Awaiting Model Update*>,\n",
       " 9: <gurobi.Constr *Awaiting Model Update*>,\n",
       " 10: <gurobi.Constr *Awaiting Model Update*>}"
      ]
     },
     "execution_count": 20,
     "metadata": {},
     "output_type": "execute_result"
    }
   ],
   "source": [
    "m.addConstrs((x.sum('*', j) <= 1 for j in J), name = \"asig\") "
   ]
  },
  {
   "cell_type": "markdown",
   "metadata": {},
   "source": [
    "2. Cada máquina debe procesar todos los trabajos que tiene asignados dentro del tiempo límite $T$."
   ]
  },
  {
   "cell_type": "code",
   "execution_count": 21,
   "metadata": {},
   "outputs": [
    {
     "data": {
      "text/plain": [
       "{1: <gurobi.Constr *Awaiting Model Update*>,\n",
       " 2: <gurobi.Constr *Awaiting Model Update*>,\n",
       " 3: <gurobi.Constr *Awaiting Model Update*>}"
      ]
     },
     "execution_count": 21,
     "metadata": {},
     "output_type": "execute_result"
    }
   ],
   "source": [
    "m.addConstrs((x.prod(t, i, '*') <= T for i in I), name = \"limite\") "
   ]
  },
  {
   "cell_type": "markdown",
   "metadata": {},
   "source": [
    "Optimizar el modelo:"
   ]
  },
  {
   "cell_type": "code",
   "execution_count": 22,
   "metadata": {},
   "outputs": [
    {
     "name": "stdout",
     "output_type": "stream",
     "text": [
      "Optimize a model with 13 rows, 30 columns and 60 nonzeros\n",
      "Variable types: 0 continuous, 30 integer (30 binary)\n",
      "Coefficient statistics:\n",
      "  Matrix range     [1e+00, 7e+01]\n",
      "  Objective range  [1e+00, 1e+00]\n",
      "  Bounds range     [1e+00, 1e+00]\n",
      "  RHS range        [1e+00, 1e+02]\n",
      "Found heuristic solution: objective 9.0000000\n",
      "Presolve time: 0.00s\n",
      "Presolved: 13 rows, 30 columns, 60 nonzeros\n",
      "Variable types: 0 continuous, 30 integer (30 binary)\n",
      "\n",
      "Root relaxation: objective 1.000000e+01, 14 iterations, 0.00 seconds\n",
      "\n",
      "    Nodes    |    Current Node    |     Objective Bounds      |     Work\n",
      " Expl Unexpl |  Obj  Depth IntInf | Incumbent    BestBd   Gap | It/Node Time\n",
      "\n",
      "     0     0   10.00000    0    2    9.00000   10.00000  11.1%     -    0s\n",
      "H    0     0                      10.0000000   10.00000  0.00%     -    0s\n",
      "\n",
      "Explored 1 nodes (14 simplex iterations) in 0.03 seconds\n",
      "Thread count was 8 (of 8 available processors)\n",
      "\n",
      "Solution count 2: 10 9 \n",
      "\n",
      "Optimal solution found (tolerance 1.00e-04)\n",
      "Best objective 1.000000000000e+01, best bound 1.000000000000e+01, gap 0.0000%\n"
     ]
    }
   ],
   "source": [
    "m.optimize()"
   ]
  },
  {
   "cell_type": "markdown",
   "metadata": {},
   "source": [
    "Mostrar la solución: asignación de trabajos a máquinas"
   ]
  },
  {
   "cell_type": "code",
   "execution_count": 23,
   "metadata": {},
   "outputs": [
    {
     "name": "stdout",
     "output_type": "stream",
     "text": [
      "Trabajo 1 asignado a la máquina 1.\n",
      "Trabajo 2 asignado a la máquina 1.\n",
      "Trabajo 3 asignado a la máquina 3.\n",
      "Trabajo 4 asignado a la máquina 2.\n",
      "Trabajo 5 asignado a la máquina 2.\n",
      "Trabajo 6 asignado a la máquina 3.\n",
      "Trabajo 7 asignado a la máquina 1.\n",
      "Trabajo 8 asignado a la máquina 3.\n",
      "Trabajo 9 asignado a la máquina 3.\n",
      "Trabajo 10 asignado a la máquina 2.\n"
     ]
    }
   ],
   "source": [
    "# Asignacion de trabajo a maquina\n",
    "for j in J:\n",
    "    for i in I:\n",
    "        if x[i, j].x >= 0.99:\n",
    "            print(\"Trabajo {} asignado a la máquina {}.\".format(j, i))"
   ]
  },
  {
   "cell_type": "code",
   "execution_count": 24,
   "metadata": {},
   "outputs": [
    {
     "name": "stdout",
     "output_type": "stream",
     "text": [
      "Maquina\tTrabajos asignados\n",
      "----------------------\n",
      "1\t[1, 2, 7]\n",
      "2\t[4, 5, 10]\n",
      "3\t[3, 6, 8, 9]\n"
     ]
    }
   ],
   "source": [
    "print('Maquina\\tTrabajos asignados')\n",
    "print('----------------------')\n",
    "for i in I:\n",
    "    print(('{}\\t{}'.format(i,[j for j in J if x[i,j].x>=0.99])))"
   ]
  },
  {
   "cell_type": "code",
   "execution_count": null,
   "metadata": {},
   "outputs": [],
   "source": []
  }
 ],
 "metadata": {
  "kernelspec": {
   "display_name": "Python 2",
   "language": "python",
   "name": "python2"
  },
  "language_info": {
   "codemirror_mode": {
    "name": "ipython",
    "version": 2
   },
   "file_extension": ".py",
   "mimetype": "text/x-python",
   "name": "python",
   "nbconvert_exporter": "python",
   "pygments_lexer": "ipython2",
   "version": "2.7.16"
  }
 },
 "nbformat": 4,
 "nbformat_minor": 2
}
