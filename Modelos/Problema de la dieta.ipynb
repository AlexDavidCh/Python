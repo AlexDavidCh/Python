{
 "cells": [
  {
   "cell_type": "markdown",
   "metadata": {},
   "source": [
    "# Laboratorio 6: Solución\n",
    "\n",
    "\n",
    "## Problema de la dieta\n",
    "\n",
    "La siguiente tabla indica el contenido de varios nutrientes (hemos considerado a la energía también como un nutriente) para un conjunto dado de alimentos, además de la cantidad máxima de porciones diarias que pueden ser consumidas de cada alimento, y el precio de cada porción.\n",
    "\n",
    "| Alimento   | Porciones diarias | Energía (kcal) | Proteínas (g)|Calcio (mg)|Precio (ctvos)|\n",
    "| -----------|:-----------------:| --------------:|-------------:|----------:|-------------:|\n",
    "|    Avena   |       $$4$$       |       $$110$$  |   $$4$$      |    $$2$$  |   $$3$$      |\n",
    "|    Pollo   |       $$3$$       |       $$205$$  |   $$32$$     |    $$12$$ |   $$24$$     |\n",
    "|    Huevos  |      $$2$$        |       $$160$$  |   $$13$$     |    $$54$$ |   $$13$$     |\n",
    "|    Leche   |      $$8$$        |       $$160$$  |   $$8$$      |   $$284$$ |   $$9$$      |\n",
    "|    Pastel  |      $$2$$        |       $$420$$  |    $$4$$     |   $$22$$  |   $$20$$     |\n",
    "|    Cerdo   |      $$2$$        |       $$260$$  |    $$14$$    |   $$80$$  |   $$19$$     |\n",
    "\n",
    "Se conoce que los requerimientos diarios mínimos de nutrientes son de $2000$kcal en energía, $55$g de proteína y $800$mg de calcio. Se desea diseñar una dieta para cubrir estos requerimientos al menor costo, tomando en cuenta que solamente es posible consumir un número entero de porciones de cada alimento. \n",
    "\n",
    "Formular este problema como un **programa lineal entero**, escribirlo usando la interfaz Python de Gurobi, resolverlo y mostrar la solución óptima. \n"
   ]
  },
  {
   "cell_type": "code",
   "execution_count": null,
   "metadata": {},
   "outputs": [],
   "source": []
  },
  {
   "cell_type": "markdown",
   "metadata": {},
   "source": [
    "Suponer que los datos del problema están dados en la variable `datos_alimentos`:"
   ]
  },
  {
   "cell_type": "code",
   "execution_count": 1,
   "metadata": {},
   "outputs": [],
   "source": [
    "# La tupla de datos de cada alimento indica:\n",
    "# (porciones maximas, energia, proteinas, calcio, precio)\n",
    "datos_alimentos = {'Avena' : (4, 110, 4, 2, 3),'Pollo' : (3, 205, 32, 12, 24), 'Huevos' : (2, 160, 13, 54, 13), \n",
    "                  'Leche' : (8, 160, 8, 284, 9), 'Pastel' : (2, 420, 4, 22, 20), 'Cerdo' : (2, 260, 14, 80, 19)}"
   ]
  },
  {
   "cell_type": "markdown",
   "metadata": {},
   "source": [
    "Para implementar este modelo, empezamos por importar el módulo de Gurobi y definir el conjunto de alimentos $I$, así como los demás parámetros del modelo, llamando a la función `multidic` :"
   ]
  },
  {
   "cell_type": "code",
   "execution_count": 2,
   "metadata": {},
   "outputs": [],
   "source": [
    "from gurobipy import *\n",
    "\n",
    "I, porciones, energia, proteinas, calcio, precio = multidict(datos_alimentos)"
   ]
  },
  {
   "cell_type": "markdown",
   "metadata": {},
   "source": [
    "Luego creamos el objeto modelo:"
   ]
  },
  {
   "cell_type": "code",
   "execution_count": 3,
   "metadata": {},
   "outputs": [
    {
     "name": "stdout",
     "output_type": "stream",
     "text": [
      "Academic license - for non-commercial use only\n"
     ]
    }
   ],
   "source": [
    "m = Model('Problema_de_la_dieta')"
   ]
  },
  {
   "cell_type": "markdown",
   "metadata": {},
   "source": [
    "Ahora creamos variables enteras $x_i$, indexadas por $i \\in I$, que representan la cantidad diaria de porciones a consumir de cada alimento. \n",
    "\n",
    "Es importante tener en cuenta que estas variables no pueden tomar valores que sobrepasen la cantidad máxima de porciones diarias. Para definir variables acotadas superiormente, se puede emplear el argumento `ub` (*upper bound*) del método `addVars()`."
   ]
  },
  {
   "cell_type": "code",
   "execution_count": 4,
   "metadata": {},
   "outputs": [],
   "source": [
    "x = m.addVars(I, vtype = GRB.INTEGER, name=\"x\",ub=porciones)"
   ]
  },
  {
   "cell_type": "markdown",
   "metadata": {},
   "source": [
    "Añadimos ahora la función objetivo: Minimizar los costos asociados a la dieta."
   ]
  },
  {
   "cell_type": "code",
   "execution_count": 5,
   "metadata": {},
   "outputs": [],
   "source": [
    "# construir sumatorio precio_i * x_i (i en I) usando el metodo prod\n",
    "m.setObjective(x.prod(precio, '*'), GRB.MINIMIZE)"
   ]
  },
  {
   "cell_type": "markdown",
   "metadata": {},
   "source": [
    "Finalmente, implementamos las restricciones del modelo:\n",
    "\n",
    "Dado que la cantidad total de un nutriente es la suma de las cantidades de los nutrientes en todos los alimentos, se deben cumplir las siguientes restricciones:\n",
    "1. Requerimiento mínimo de energía."
   ]
  },
  {
   "cell_type": "code",
   "execution_count": 6,
   "metadata": {},
   "outputs": [
    {
     "data": {
      "text/plain": [
       "<gurobi.Constr *Awaiting Model Update*>"
      ]
     },
     "execution_count": 6,
     "metadata": {},
     "output_type": "execute_result"
    }
   ],
   "source": [
    "# construir sumatorio energia_i * x_i (i en I) usando el metodo prod\n",
    "m.addConstr(x.prod(energia, '*') >= 2000, \"req_ener\")"
   ]
  },
  {
   "cell_type": "markdown",
   "metadata": {},
   "source": [
    "2. Requerimiento mínimo de proteínas."
   ]
  },
  {
   "cell_type": "code",
   "execution_count": 7,
   "metadata": {},
   "outputs": [
    {
     "data": {
      "text/plain": [
       "<gurobi.Constr *Awaiting Model Update*>"
      ]
     },
     "execution_count": 7,
     "metadata": {},
     "output_type": "execute_result"
    }
   ],
   "source": [
    "# construir sumatorio proteina_i * x_i (i en I) usando un generador\n",
    "m.addConstr(x.prod(proteinas, '*') >= 55, \"req_ener\")"
   ]
  },
  {
   "cell_type": "markdown",
   "metadata": {},
   "source": [
    "3. Requerimiento mínimo de calcio."
   ]
  },
  {
   "cell_type": "code",
   "execution_count": 8,
   "metadata": {},
   "outputs": [
    {
     "data": {
      "text/plain": [
       "<gurobi.Constr *Awaiting Model Update*>"
      ]
     },
     "execution_count": 8,
     "metadata": {},
     "output_type": "execute_result"
    }
   ],
   "source": [
    "# construir sumatorio calcio_i * x_i (i en I) usando un generador\n",
    "m.addConstr(x.prod(calcio, '*') >= 800, \"req_prot\")"
   ]
  },
  {
   "cell_type": "markdown",
   "metadata": {},
   "source": [
    "Llamamos ahora a `optimize` para resolver el modelo."
   ]
  },
  {
   "cell_type": "code",
   "execution_count": 9,
   "metadata": {},
   "outputs": [
    {
     "name": "stdout",
     "output_type": "stream",
     "text": [
      "Optimize a model with 3 rows, 6 columns and 18 nonzeros\n",
      "Variable types: 0 continuous, 6 integer (0 binary)\n",
      "Coefficient statistics:\n",
      "  Matrix range     [2e+00, 4e+02]\n",
      "  Objective range  [3e+00, 2e+01]\n",
      "  Bounds range     [2e+00, 8e+00]\n",
      "  RHS range        [6e+01, 2e+03]\n",
      "Found heuristic solution: objective 136.0000000\n",
      "Presolve removed 1 rows and 0 columns\n",
      "Presolve time: 0.14s\n",
      "Presolved: 2 rows, 6 columns, 12 nonzeros\n",
      "Variable types: 0 continuous, 6 integer (0 binary)\n",
      "\n",
      "Root relaxation: objective 9.250000e+01, 1 iterations, 0.00 seconds\n",
      "\n",
      "    Nodes    |    Current Node    |     Objective Bounds      |     Work\n",
      " Expl Unexpl |  Obj  Depth IntInf | Incumbent    BestBd   Gap | It/Node Time\n",
      "\n",
      "     0     0   92.50000    0    1  136.00000   92.50000  32.0%     -    0s\n",
      "H    0     0                      97.0000000   92.50000  4.64%     -    0s\n",
      "\n",
      "Cutting planes:\n",
      "  Gomory: 1\n",
      "\n",
      "Explored 1 nodes (1 simplex iterations) in 0.37 seconds\n",
      "Thread count was 4 (of 4 available processors)\n",
      "\n",
      "Solution count 2: 97 136 \n",
      "\n",
      "Optimal solution found (tolerance 1.00e-04)\n",
      "Best objective 9.700000000000e+01, best bound 9.700000000000e+01, gap 0.0000%\n"
     ]
    }
   ],
   "source": [
    "m.optimize()"
   ]
  },
  {
   "cell_type": "markdown",
   "metadata": {},
   "source": [
    "Mostrar las porciones por alimento requeridas de acuerdo a la dieta óptima:"
   ]
  },
  {
   "cell_type": "code",
   "execution_count": 10,
   "metadata": {},
   "outputs": [
    {
     "name": "stdout",
     "output_type": "stream",
     "text": [
      "Alimento\t Porción\n",
      "------------------------\n",
      "Pastel\t\t 2.0\n",
      "Avena\t\t 4.0\n",
      "Leche\t\t 5.0\n"
     ]
    }
   ],
   "source": [
    "print('Alimento\\t Porción')\n",
    "print('------------------------')\n",
    "for i in I:\n",
    "    if x[i].x >= 0.99:\n",
    "        print('{}\\t\\t {}'.format(i,x[i].x))"
   ]
  },
  {
   "cell_type": "code",
   "execution_count": null,
   "metadata": {},
   "outputs": [],
   "source": []
  }
 ],
 "metadata": {
  "kernelspec": {
   "display_name": "Python 2",
   "language": "python",
   "name": "python2"
  },
  "language_info": {
   "codemirror_mode": {
    "name": "ipython",
    "version": 2
   },
   "file_extension": ".py",
   "mimetype": "text/x-python",
   "name": "python",
   "nbconvert_exporter": "python",
   "pygments_lexer": "ipython2",
   "version": "2.7.16"
  }
 },
 "nbformat": 4,
 "nbformat_minor": 2
}
